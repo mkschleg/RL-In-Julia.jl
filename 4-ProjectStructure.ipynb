{
 "cells": [
  {
   "cell_type": "markdown",
   "metadata": {},
   "source": [
    "# Project structure and Organization of code\n",
    "\n",
    "One issue that I've seen many students run into when first dipping into Julia is not having good resources on how to structure research projects. This comes often from students who have been using Python (or other OO languages), and using inheritance heavily in their code bases. This section will talk about different strategies for developing flexible research code taking advantage of multiple dispatch, and discuss project organization (including basics on how to generate new packages). \n",
    "\n",
    "\n",
    "First, we should start w/ generating the basic structure of a package/research project. My prefered method is to use Julia's default project structure, meaning our repositories look exactly like a normal package you would add to your own project. This also means we can use tools already built to do some of the more annoying things such as [PkgTemplates.jl](https://github.com/invenia/PkgTemplates.jl). This is already added into the project packages, but I would recommend adding it to your base project so you can access it everywhere!\n",
    "\n",
    "The following will create a new project with the name \"TestProject\" and add a bunch of boiler plate code and other files to make starting the project easier. This includes the `src` directory where the majority of our code will live, and a `test` directory where you will put all your unit tests. There are a lot of options available to be passed to `Template` so I would recommend reading the docs linked above for more details. The default is fine for our purposes. "
   ]
  },
  {
   "cell_type": "code",
   "execution_count": null,
   "metadata": {},
   "outputs": [],
   "source": [
    "using PkgTemplates\n",
    "\n",
    "t = Template(dir=\".\")\n",
    "t(\"TestProject\")"
   ]
  },
  {
   "cell_type": "markdown",
   "metadata": {},
   "source": []
  },
  {
   "cell_type": "code",
   "execution_count": null,
   "metadata": {},
   "outputs": [],
   "source": []
  }
 ],
 "metadata": {
  "kernelspec": {
   "display_name": "Julia 1.4.1",
   "language": "julia",
   "name": "julia-1.4"
  },
  "language_info": {
   "file_extension": ".jl",
   "mimetype": "application/julia",
   "name": "julia",
   "version": "1.4.1"
  }
 },
 "nbformat": 4,
 "nbformat_minor": 4
}
