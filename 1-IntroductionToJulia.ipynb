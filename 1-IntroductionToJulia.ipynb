{
 "cells": [
  {
   "cell_type": "markdown",
   "metadata": {},
   "source": [
    "# Using Julia to do modern Reinforcement Learning Research\n",
    "\n",
    "Looking at the Julia's current surge in popularity in scientific fields and the current amazing work being done in the open source community towards using RL, it makes sense to start considering Julia for doing researching in the machine learning fields. \n",
    "\n",
    "This series of tutorials will act as an introduction to using julia to do research in reinforcement learning. We will talk about important details when constructing experiments (for reproducibility) and several facets of Julia which make life much easier for researchers. These tutorials were constructed with jupyter notebooks."
   ]
  },
  {
   "cell_type": "markdown",
   "metadata": {},
   "source": [
    "# Why Julia\n",
    "\n",
    "\n",
    "You may be asking yourself, why should we think about using Julia as Python is ubiquious in the field? This is a great question, and one many people currently using Julia have also thought through. I won't try and convince you here, but here are a few reasons I have for using Julia:\n",
    "\n",
    "* Mulitple dispatch makes code simpler as compared to Object Orientated Programming.\n",
    "* Linear algebra accelerated through BLAS is built in to the language. (i.e. arrays of numbers are BLAS by default).\n",
    "* Plotting code is usually simpler using Plots.jl.\n",
    "\n",
    "These are only a few reasons, but those I find most beautiful about julia. As we develop our reinforcement learning framework from scratch, I would like you to consider how you would implement these ideas in python. For example, what libraries would you need? What class structure? How would I change behavior? I've found my code significantly simplifies as I try to do things the Julia way (taking full advantage of multiple dispatch).\n",
    "\n",
    "\n"
   ]
  },
  {
   "cell_type": "markdown",
   "metadata": {},
   "source": [
    "## Linear Algebra\n",
    "\n",
    "Lets start simple, and perform some typical linear algebra operations using Julia to get a handle of the language. While these contain only a subset of what is baked into julia, you should be able to extrapolate to other operations you care about. \n",
    "\n"
   ]
  },
  {
   "cell_type": "code",
   "execution_count": null,
   "metadata": {},
   "outputs": [],
   "source": [
    "a = rand(2) # get a random column vector of size 10 and set it to the variable a\n",
    "b = rand(2)\n",
    "s = rand()\n",
    "M = rand(2,2)\n",
    "\n",
    "println(\"vector addition\")\n",
    "@show a + b\n",
    "\n",
    "println(\"Scalar multiplication:\")\n",
    "@show 2a\n",
    "@show 2*a\n",
    "\n",
    "println(\"Element wise vector multiplication:\")\n",
    "@show a .* b\n",
    "\n",
    "println(\"Inner product of vectors\")\n",
    "@show a' * b\n",
    "\n",
    "println(\"Outer product of vectors\")\n",
    "@show a * b'\n",
    "\n",
    "println(\"Matrix mulitplication of vectors\")\n",
    "@show M * a\n",
    "\n",
    "println(\"Matrix element wise product with outer product operation\")\n",
    "@show M .* (a * b')\n",
    "\n",
    "println(\"Broadcast scalar-vector addtion\")\n",
    "@show a .+ s\n",
    "\n",
    "; # ignore this semi-colon."
   ]
  },
  {
   "cell_type": "markdown",
   "metadata": {},
   "source": [
    "Along with these operations which are always available, there is a Base package `L"
   ]
  },
  {
   "cell_type": "markdown",
   "metadata": {},
   "source": [
    "\n",
    "If you have a specfic linear algebra operation you want but can't find it in Base, you will need to explicitly load the LinearAlgebra package. This is already available to you in the STDLib \n"
   ]
  },
  {
   "cell_type": "code",
   "execution_count": null,
   "metadata": {},
   "outputs": [],
   "source": [
    "using LinearAlgebra\n",
    "\n",
    "println(\"Singular Value Decomposition\")\n",
    "M_svd = svd(M)\n",
    "@show M_svd.U\n",
    "@show M_svd.S\n",
    "@show M_svd.V\n",
    "\n",
    "# Check that M = USV' to some floating point error (i.e. approximately)\n",
    "all((M_svd.U * diagm(M_svd.S) * M_svd.Vt) .≈ M)\n"
   ]
  },
  {
   "cell_type": "markdown",
   "metadata": {},
   "source": [
    "# Random Numbers\n",
    "\n",
    "Being considerate about your random number generators is one of the most important aspects of making experiments reproducible (i.e. setting your random seed). Julia lets you set the seed of a Global random number generator, as well as construct and manage your own.\n"
   ]
  },
  {
   "cell_type": "code",
   "execution_count": null,
   "metadata": {},
   "outputs": [],
   "source": [
    "using Random # Already in the language, you are just accessing the namespace\n",
    "\n",
    "Random.seed!(Random.GLOBAL_RNG, 10) # Set global random seed\n",
    "\n",
    "@show all(rand(2) .== [0.11258244478647295, 0.36831406658084287])\n",
    "\n",
    "rng = Random.MersenneTwister(10)\n",
    "\n",
    "@show all(rand(rng, 2) .== [0.11258244478647295, 0.36831406658084287])\n",
    "\n",
    "\n",
    ";"
   ]
  },
  {
   "cell_type": "markdown",
   "metadata": {},
   "source": [
    "# Multiple Dispatch\n",
    "\n",
    "Multiple dispatch is the central design ideology of Julia (much like OOP is central to Python or Java). At first glance, it seems very similar to function overloading of other languages (i.e. C++), but it has much more utility because of the ability to dispatch on all argument types (not just one or two)!  This will be useful later, for now I am only going to simple show how you can take advantage.\n"
   ]
  },
  {
   "cell_type": "code",
   "execution_count": null,
   "metadata": {},
   "outputs": [],
   "source": [
    "\n",
    "function f(x)\n",
    "    return \"default\"\n",
    "end\n",
    "\n",
    "function f(x::Integer)\n",
    "    return \"Int\"\n",
    "end\n",
    "\n",
    "function f(x::AbstractFloat)\n",
    "    return \"Float\"\n",
    "end\n",
    "\n",
    "\n",
    "println(f(\"Hello\")) # pass f a string\n",
    "println(f(1)) # pass f a integer\n",
    "println(f(200f0)) #pass f a Float32 (single precision floating point number)\n"
   ]
  },
  {
   "cell_type": "markdown",
   "metadata": {},
   "source": [
    "A method is Julia's term for a specialized version of a function. Above we wrote a function `f` and hand-made specialized methods for integers and floats. While this may seem like the compiler is only working on the specialized versions, this is incorrect! The compiler will create a specialized method automatically from the generic function, meaning you get the performance of a hand-specialized method. The overriden methods are useful for when there are code changes for different types (which we'll see later on).\n",
    "\n",
    "If you specialize a function w/o a generic fallback version you will get an exception that there is no matching method."
   ]
  },
  {
   "cell_type": "code",
   "execution_count": null,
   "metadata": {},
   "outputs": [],
   "source": [
    "function greet(s::String)\n",
    "    println(\"Hello $(s)\")\n",
    "end\n",
    "\n",
    "greet(\"Matthew\")\n",
    "greet(1) # This should throw an exception! greet is not defined for integers!"
   ]
  },
  {
   "cell_type": "markdown",
   "metadata": {},
   "source": [
    "Later in the series you will see how to take advantage of multiple dispatch to design an RL interface and use it to make design easier with composition."
   ]
  },
  {
   "cell_type": "markdown",
   "metadata": {},
   "source": [
    "## Types and Data\n",
    "\n",
    "Now that we have some of the fundamental building blocks of what makes julia tick, we can start thinking about custom types. First, lets just build a basic struct which contains some data we can act on. As a simple example, lets make a struct A which stores an integer (you can imagine this struct being an agent, environment, or really anything), with a simple function."
   ]
  },
  {
   "cell_type": "code",
   "execution_count": null,
   "metadata": {},
   "outputs": [],
   "source": [
    "struct A\n",
    "   data::Int\n",
    "end\n",
    "\n",
    "function double(a::A)\n",
    "    a.data * 2\n",
    "end"
   ]
  },
  {
   "cell_type": "markdown",
   "metadata": {},
   "source": [
    "This just returns double the data stored in A. Lets make another struct B which holds a string this time"
   ]
  },
  {
   "cell_type": "code",
   "execution_count": null,
   "metadata": {},
   "outputs": [],
   "source": [
    "struct B\n",
    "   data::String\n",
    "end"
   ]
  },
  {
   "cell_type": "markdown",
   "metadata": {},
   "source": [
    "we can dispatch on my_func by specializing:"
   ]
  },
  {
   "cell_type": "code",
   "execution_count": null,
   "metadata": {},
   "outputs": [],
   "source": [
    "function double(b::B)\n",
    "    ret = tryparse(Int, b.data)\n",
    "    if ret == nothing\n",
    "        0\n",
    "    else\n",
    "        2*ret\n",
    "    end\n",
    "end"
   ]
  },
  {
   "cell_type": "markdown",
   "metadata": {},
   "source": [
    "This parses the data in b as an Int and doubles. If it is unable to parse (i.e. the data isn’t an Int) it returns 0.\n",
    "\n",
    "Great!\n",
    "\n",
    "Now we can use this in a more complex, but general function\n",
    "\n",
    "```julia\n",
    "function complicated_function(a_or_b, args...)\n",
    "    # ... Stuff goes here ...\n",
    "    data_doubled = double(a_or_b)\n",
    "    # other stuff\n",
    "end\n",
    "```"
   ]
  },
  {
   "cell_type": "markdown",
   "metadata": {},
   "source": [
    "Notice how I didn’t specialize the a_or_b parameter above and instead kept it generic. This means any struct which specializes double will slot in the correct function when complicated_function is compiled!\n",
    "\n",
    "Now it should be pretty clear how you can use multiple dispatch to get the kind of generics you are wanting (even though these are contrived examples). We can abstract one more layer and make this even more usable using abstracts:"
   ]
  },
  {
   "cell_type": "code",
   "execution_count": null,
   "metadata": {},
   "outputs": [],
   "source": [
    "abstract type AbstractAB end\n",
    "\n",
    "double(aab::AbstractAB) = data_as_int(aab)*2\n",
    "\n",
    "my_func(aab::AbstractAB) = 20*(data_as_int(aab)^2 + 10)\n",
    "\n",
    "struct A\n",
    "   data::Int\n",
    "end\n",
    "\n",
    "data_as_int(a::A) = a.data\n",
    "\n",
    "struct B\n",
    "   data_str::String\n",
    "end\n",
    "\n",
    "function data_as_int(b::B) \n",
    "   ret = tryparse(Int, b.data_str)\n",
    "   if ret == nothing\n",
    "      0\n",
    "   else\n",
    "      ret\n",
    "   end\n",
    "end"
   ]
  },
  {
   "cell_type": "markdown",
   "metadata": {},
   "source": [
    "Notice that we moved the complex and specialized code into more restrictive functions so the general functions can be reused. While here we used actual Abstract typing to make dispatch work the way we want, you can also build this exact same interface using duck typing!"
   ]
  },
  {
   "cell_type": "markdown",
   "metadata": {},
   "source": [
    "# Design patterns\n",
    "\n",
    "While I won't go into detail about design patterns which emerge from Julia's multiple dispatch and typing system, you should read [this blog](https://www.stochasticlifestyle.com/type-dispatch-design-post-object-oriented-programming-julia/) by Christopher Rackauckas (who is an active user of the language doing research in applying ML/AI research to Scientific pursuits). \n"
   ]
  },
  {
   "cell_type": "code",
   "execution_count": null,
   "metadata": {},
   "outputs": [],
   "source": []
  }
 ],
 "metadata": {
  "kernelspec": {
   "display_name": "Julia 1.3.1",
   "language": "julia",
   "name": "julia-1.3"
  },
  "language_info": {
   "file_extension": ".jl",
   "mimetype": "application/julia",
   "name": "julia",
   "version": "1.3.1"
  }
 },
 "nbformat": 4,
 "nbformat_minor": 4
}
