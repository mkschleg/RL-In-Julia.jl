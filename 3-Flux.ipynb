{
 "cells": [
  {
   "cell_type": "markdown",
   "metadata": {},
   "source": [
    "# Flux for ML/RL\n",
    "\n",
    "This notebooks is going to lay out some basics about [Flux.jl](https://fluxml.ai). Unfortunately, flux currently takes quite awhile to precompile and load. This is being worked on, but I recommend evaluating the next cell before digging into the text which appears after. This will speed up after the first time as there will be cached pre-compiled version of the library (much like Plots from before).\n"
   ]
  },
  {
   "cell_type": "code",
   "execution_count": 1,
   "metadata": {},
   "outputs": [],
   "source": [
    "using Flux, Random, Statistics, BenchmarkTools"
   ]
  },
  {
   "cell_type": "markdown",
   "metadata": {},
   "source": [
    "## What is Flux?\n",
    "\n",
    "Flux is a deep learning framework that uses source-to-source automatic differentiation through Zygote.jl. The resulting library is incredibly flexible and can deferintiate through many Julia functions right out of the box. The benefit of this is that _all_ of Flux's models are written in pure julia (even GPU operations!!), and the library can take full advantage of multiple dispatch. We will discuss the nice features which come from this down the road, but first lets start with a simple example (artificial regression with a linear model). We can then move to talk about how Flux can be used in RL research.\n",
    "\n",
    "\n",
    "Because our problem is artificial, we will need to create a dataset."
   ]
  },
  {
   "cell_type": "code",
   "execution_count": 2,
   "metadata": {},
   "outputs": [
    {
     "data": {
      "text/plain": [
       "1×512 Array{Float32,2}:\n",
       " 0.0671812  0.210611  -0.212441  …  0.173896  -0.878224  -0.00244423"
      ]
     },
     "execution_count": 2,
     "metadata": {},
     "output_type": "execute_result"
    }
   ],
   "source": [
    "\n",
    "Random.seed!(10293)\n",
    "\n",
    "train_points = 2^14\n",
    "val_points = 2^9\n",
    "feature_size = 10\n",
    "ϵ = 0.01f0\n",
    "\n",
    "target_model = Chain(Dense(feature_size, 256, relu), Dense(256, 1)) # These layers default to using the global random seed!\n",
    "\n",
    "X_train = randn(Float32, feature_size, train_points)\n",
    "Y_train = target_model(X_train) + ϵ*randn(Float32, train_points)'\n",
    "\n",
    "X_val = randn(Float32, feature_size, val_points)\n",
    "Y_val = target_model(X_val) + ϵ*randn(Float32, val_points)'"
   ]
  },
  {
   "cell_type": "markdown",
   "metadata": {},
   "source": [
    "Now with the dataset created, we will setup a model and do a simple training loop with mini-batch gradient descent. We will decompose some of the flux primitives afterwards."
   ]
  },
  {
   "cell_type": "code",
   "execution_count": 6,
   "metadata": {},
   "outputs": [
    {
     "name": "stdout",
     "output_type": "stream",
     "text": [
      "Initial:\n",
      "loss(X_train, Y_train) = 0.33594036f0\n",
      "loss(X_val, Y_val) = 0.36127582f0\n",
      "\n",
      "Epoch: 10\n",
      "loss(X_train, Y_train) = 0.004389817f0\n",
      "loss(X_val, Y_val) = 0.0050601633f0\n",
      "\n",
      "Epoch: 20\n",
      "loss(X_train, Y_train) = 0.0036121837f0\n",
      "loss(X_val, Y_val) = 0.0042091855f0\n",
      "\n",
      "Epoch: 30\n",
      "loss(X_train, Y_train) = 0.003174251f0\n",
      "loss(X_val, Y_val) = 0.0037046995f0\n",
      "\n",
      "Epoch: 40\n",
      "loss(X_train, Y_train) = 0.0028663334f0\n",
      "loss(X_val, Y_val) = 0.003357669f0\n",
      "\n",
      "Epoch: 50\n",
      "loss(X_train, Y_train) = 0.0026439303f0\n",
      "loss(X_val, Y_val) = 0.0031033668f0\n",
      "\n",
      "Epoch: 60\n",
      "loss(X_train, Y_train) = 0.0024611754f0\n",
      "loss(X_val, Y_val) = 0.0028887577f0\n",
      "\n",
      "Epoch: 70\n",
      "loss(X_train, Y_train) = 0.002320534f0\n",
      "loss(X_val, Y_val) = 0.0027234575f0\n",
      "\n",
      "Epoch: 80\n",
      "loss(X_train, Y_train) = 0.0022109547f0\n",
      "loss(X_val, Y_val) = 0.0026023488f0\n",
      "\n",
      "Epoch: 90\n",
      "loss(X_train, Y_train) = 0.0021132152f0\n",
      "loss(X_val, Y_val) = 0.002481657f0\n",
      "\n",
      "Epoch: 100\n",
      "loss(X_train, Y_train) = 0.0020341163f0\n",
      "loss(X_val, Y_val) = 0.0023871385f0\n",
      "\n"
     ]
    }
   ],
   "source": [
    "batchsize = 64\n",
    "opt = Descent(0.01)\n",
    "\n",
    "model = Chain(Dense(feature_size, 64, relu), Dense(64, 1))\n",
    "loss(x, y) = Flux.mse(model(x), y)\n",
    "\n",
    "println(\"Initial:\")\n",
    "@show loss(X_train, Y_train)\n",
    "@show loss(X_val, Y_val)\n",
    "println()\n",
    "\n",
    "for n ∈ 1:100\n",
    "    train_loader = Flux.Data.DataLoader(X_train, Y_train, batchsize=batchsize, shuffle=true)\n",
    "    Flux.train!(\n",
    "        loss, Flux.params(model), train_loader, opt)\n",
    "    if (n) % 10 == 0\n",
    "        println(\"Epoch: $(n)\")\n",
    "        @show loss(X_train, Y_train)\n",
    "        @show loss(X_val, Y_val)\n",
    "        println()\n",
    "    end\n",
    "end\n",
    "\n"
   ]
  },
  {
   "cell_type": "markdown",
   "metadata": {},
   "source": [
    "## Custom Training Loop\n",
    "\n",
    "The first piece we need to decompose is the training loop. In the above example we are using Flux's built in `train!` function. The beauty of Julia and Flux is that this is written all using Julia (meaning we can customize our training loop w/o any extra computational cost). While not as useful for the purposes of ML, for RL this is a critical component as the training loop contains interactions with the environment and other various processing book keeping ideas.\n",
    "\n"
   ]
  },
  {
   "cell_type": "code",
   "execution_count": 28,
   "metadata": {},
   "outputs": [
    {
     "data": {
      "text/plain": [
       "cust_train! (generic function with 1 method)"
      ]
     },
     "execution_count": 28,
     "metadata": {},
     "output_type": "execute_result"
    }
   ],
   "source": [
    "function cust_train!(loss::Function, m, ps, data, opt)\n",
    "    for d in data\n",
    "        gs = gradient(ps) do\n",
    "            training_loss = loss(m, d...)\n",
    "            # Insert what ever code you want here that needs Training loss, e.g. logging\n",
    "            return training_loss\n",
    "        end\n",
    "        # insert what ever code you want here that needs gradient\n",
    "        # E.g. logging with TensorBoardLogger.jl as histogram so you can see if it is becoming huge\n",
    "        Flux.Optimise.update!(opt, ps, gs)\n",
    "        # Here you might like to check validation set accuracy, and break out to do early stopping\n",
    "    end\n",
    "end"
   ]
  },
  {
   "cell_type": "markdown",
   "metadata": {},
   "source": [
    "## Custom Layer\n",
    "\n",
    "Just like the training loop, all of Flux's layers are written in Julia. Below is an example of the a Dense layer, but there are plenty of other examples and layers (all written in Julia) found [here](https://github.com/FluxML/Flux.jl/tree/master/src/layers)."
   ]
  },
  {
   "cell_type": "code",
   "execution_count": 35,
   "metadata": {},
   "outputs": [],
   "source": [
    "struct CustDense{S, B, F}\n",
    "    W::S\n",
    "    b::B\n",
    "    σ::F\n",
    "end\n",
    "\n",
    "CustDense(W, b) = CustDense(W, b, identity)\n",
    "\n",
    "function CustDense(in::Integer, out::Integer, σ = identity;\n",
    "               initW = Flux.glorot_uniform, initb = Flux.zeros)\n",
    "    return CustDense(initW(out, in), initb(out), σ)\n",
    "end\n",
    "\n",
    "(l::CustDense)(X) = l.σ.(l.W*X .+ l.b)\n",
    "Flux.@functor CustDense\n"
   ]
  },
  {
   "cell_type": "markdown",
   "metadata": {},
   "source": [
    "## Custom Optimiser\n",
    "\n",
    "Again, there are plenty "
   ]
  },
  {
   "cell_type": "code",
   "execution_count": 38,
   "metadata": {},
   "outputs": [],
   "source": [
    "struct CustDescent\n",
    "  eta::Float64\n",
    "end\n",
    "\n",
    "CustDescent() = CustDescent(0.1)\n",
    "\n",
    "function Flux.Optimise.apply!(o::CustDescent, x, Δ)\n",
    "  Δ .*= o.eta\n",
    "end"
   ]
  },
  {
   "cell_type": "markdown",
   "metadata": {},
   "source": [
    "## Putting it all together"
   ]
  },
  {
   "cell_type": "code",
   "execution_count": 40,
   "metadata": {},
   "outputs": [
    {
     "name": "stdout",
     "output_type": "stream",
     "text": [
      "Initial:\n",
      "Flux.mse(cust_model(X_train), Y_train) = 0.27601916f0\n",
      "Flux.mse(cust_model(X_val), Y_val) = 0.2873298f0\n",
      "\n",
      "Epoch: 10\n",
      "Flux.mse(cust_model(X_train), Y_train) = 0.003711562f0\n",
      "Flux.mse(cust_model(X_val), Y_val) = 0.003937993f0\n",
      "\n",
      "Epoch: 20\n",
      "Flux.mse(cust_model(X_train), Y_train) = 0.0030475203f0\n",
      "Flux.mse(cust_model(X_val), Y_val) = 0.0032307252f0\n",
      "\n",
      "Epoch: 30\n",
      "Flux.mse(cust_model(X_train), Y_train) = 0.0027394698f0\n",
      "Flux.mse(cust_model(X_val), Y_val) = 0.0029539869f0\n",
      "\n",
      "Epoch: 40\n",
      "Flux.mse(cust_model(X_train), Y_train) = 0.0025184238f0\n",
      "Flux.mse(cust_model(X_val), Y_val) = 0.002762441f0\n",
      "\n",
      "Epoch: 50\n",
      "Flux.mse(cust_model(X_train), Y_train) = 0.0023464428f0\n",
      "Flux.mse(cust_model(X_val), Y_val) = 0.0026077998f0\n",
      "\n",
      "Epoch: 60\n",
      "Flux.mse(cust_model(X_train), Y_train) = 0.0022084129f0\n",
      "Flux.mse(cust_model(X_val), Y_val) = 0.0024781355f0\n",
      "\n",
      "Epoch: 70\n",
      "Flux.mse(cust_model(X_train), Y_train) = 0.002097625f0\n",
      "Flux.mse(cust_model(X_val), Y_val) = 0.002386366f0\n",
      "\n",
      "Epoch: 80\n",
      "Flux.mse(cust_model(X_train), Y_train) = 0.0020070595f0\n",
      "Flux.mse(cust_model(X_val), Y_val) = 0.0022932312f0\n",
      "\n",
      "Epoch: 90\n",
      "Flux.mse(cust_model(X_train), Y_train) = 0.0019329975f0\n",
      "Flux.mse(cust_model(X_val), Y_val) = 0.002224853f0\n",
      "\n",
      "Epoch: 100\n",
      "Flux.mse(cust_model(X_train), Y_train) = 0.0018681604f0\n",
      "Flux.mse(cust_model(X_val), Y_val) = 0.002166014f0\n",
      "\n"
     ]
    }
   ],
   "source": [
    "cust_model = Chain(CustDense(feature_size, 64, relu), CustDense(64, 1))\n",
    "opt = CustDescent(0.01)\n",
    "\n",
    "println(\"Initial:\")\n",
    "@show Flux.mse(cust_model(X_train), Y_train)\n",
    "@show Flux.mse(cust_model(X_val), Y_val)\n",
    "println()\n",
    "\n",
    "for n ∈ 1:100\n",
    "    train_loader = Flux.Data.DataLoader(X_train, Y_train, batchsize=batchsize, shuffle=true)\n",
    "    cust_train!(cust_model, Flux.params(cust_model), train_loader, opt) do m, X, Y\n",
    "        Flux.mse(m(X), Y)\n",
    "    end\n",
    "    if (n) % 10 == 0\n",
    "        println(\"Epoch: $(n)\")\n",
    "        @show Flux.mse(cust_model(X_train), Y_train)\n",
    "        @show Flux.mse(cust_model(X_val), Y_val)\n",
    "        println()\n",
    "    end\n",
    "end\n"
   ]
  },
  {
   "cell_type": "code",
   "execution_count": null,
   "metadata": {},
   "outputs": [],
   "source": []
  }
 ],
 "metadata": {
  "kernelspec": {
   "display_name": "Julia 1.4.1",
   "language": "julia",
   "name": "julia-1.4"
  },
  "language_info": {
   "file_extension": ".jl",
   "mimetype": "application/julia",
   "name": "julia",
   "version": "1.4.1"
  }
 },
 "nbformat": 4,
 "nbformat_minor": 4
}
